{
  "nbformat": 4,
  "nbformat_minor": 0,
  "metadata": {
    "accelerator": "GPU",
    "colab": {
      "name": "NLP_Week4_Exercise_Shakespeare_Question.ipynb",
      "provenance": []
    },
    "kernelspec": {
      "display_name": "Python 3",
      "name": "python3"
    }
  },
  "cells": [
    {
      "cell_type": "code",
      "metadata": {
        "id": "zX4Kg8DUTKWO",
        "colab_type": "code",
        "colab": {}
      },
      "source": [
        "#@title Licensed under the Apache License, Version 2.0 (the \"License\");\n",
        "# you may not use this file except in compliance with the License.\n",
        "# You may obtain a copy of the License at\n",
        "#\n",
        "# https://www.apache.org/licenses/LICENSE-2.0\n",
        "#\n",
        "# Unless required by applicable law or agreed to in writing, software\n",
        "# distributed under the License is distributed on an \"AS IS\" BASIS,\n",
        "# WITHOUT WARRANTIES OR CONDITIONS OF ANY KIND, either express or implied.\n",
        "# See the License for the specific language governing permissions and\n",
        "# limitations under the License."
      ],
      "execution_count": 1,
      "outputs": []
    },
    {
      "cell_type": "code",
      "metadata": {
        "id": "7jz6akzw2AQK",
        "colab_type": "code",
        "colab": {
          "base_uri": "https://localhost:8080/",
          "height": 35
        },
        "outputId": "ff3ace70-6f8a-4694-e550-58458192449f"
      },
      "source": [
        "%tensorflow_version 2.x\n",
        "import tensorflow as tf\n",
        "device_name = tf.test.gpu_device_name()\n",
        "if device_name != '/device:GPU:0':\n",
        "  raise SystemError('GPU device not found')\n",
        "print('Found GPU at: {}'.format(device_name))"
      ],
      "execution_count": 2,
      "outputs": [
        {
          "output_type": "stream",
          "text": [
            "Found GPU at: /device:GPU:0\n"
          ],
          "name": "stdout"
        }
      ]
    },
    {
      "cell_type": "code",
      "metadata": {
        "colab_type": "code",
        "id": "BOwsuGQQY9OL",
        "colab": {}
      },
      "source": [
        "from tensorflow.keras.preprocessing.sequence import pad_sequences\n",
        "from tensorflow.keras.layers import Embedding, LSTM, Dense, Dropout, Bidirectional\n",
        "from tensorflow.keras.preprocessing.text import Tokenizer\n",
        "from tensorflow.keras.models import Sequential\n",
        "from tensorflow.keras.optimizers import Adam\n",
        "### YOUR CODE HERE\n",
        "from tensorflow.keras import regularizers\n",
        "# Figure out how to import regularizers\n",
        "###\n",
        "import tensorflow.keras.utils as ku \n",
        "import numpy as np "
      ],
      "execution_count": 3,
      "outputs": []
    },
    {
      "cell_type": "code",
      "metadata": {
        "colab_type": "code",
        "id": "PRnDnCW-Z7qv",
        "colab": {
          "base_uri": "https://localhost:8080/",
          "height": 213
        },
        "outputId": "41037a24-89f5-46dc-e9be-0c08f2bc9926"
      },
      "source": [
        "tokenizer = Tokenizer()\n",
        "!wget --no-check-certificate \\\n",
        "    https://storage.googleapis.com/laurencemoroney-blog.appspot.com/sonnets.txt \\\n",
        "    -O /tmp/sonnets.txt\n",
        "data = open('/tmp/sonnets.txt').read()\n",
        "\n",
        "corpus = data.lower().split(\"\\n\")\n",
        "\n",
        "\n",
        "tokenizer.fit_on_texts(corpus)\n",
        "total_words = len(tokenizer.word_index) + 1\n",
        "\n",
        "# create input sequences using list of tokens\n",
        "input_sequences = []\n",
        "for line in corpus:\n",
        "\ttoken_list = tokenizer.texts_to_sequences([line])[0]\n",
        "\tfor i in range(1, len(token_list)):\n",
        "\t\tn_gram_sequence = token_list[:i+1]\n",
        "\t\tinput_sequences.append(n_gram_sequence)\n",
        "\n",
        "\n",
        "# pad sequences \n",
        "max_sequence_len = max([len(x) for x in input_sequences])\n",
        "input_sequences = np.array(pad_sequences(input_sequences, maxlen=max_sequence_len, padding='pre'))\n",
        "\n",
        "# create predictors and label\n",
        "predictors, label = input_sequences[:,:-1],input_sequences[:,-1]\n",
        "\n",
        "label = ku.to_categorical(label, num_classes=total_words)"
      ],
      "execution_count": 4,
      "outputs": [
        {
          "output_type": "stream",
          "text": [
            "--2020-06-24 05:41:58--  https://storage.googleapis.com/laurencemoroney-blog.appspot.com/sonnets.txt\n",
            "Resolving storage.googleapis.com (storage.googleapis.com)... 64.233.189.128, 2404:6800:4008:c03::80\n",
            "Connecting to storage.googleapis.com (storage.googleapis.com)|64.233.189.128|:443... connected.\n",
            "HTTP request sent, awaiting response... 200 OK\n",
            "Length: 93578 (91K) [text/plain]\n",
            "Saving to: ‘/tmp/sonnets.txt’\n",
            "\n",
            "\r/tmp/sonnets.txt      0%[                    ]       0  --.-KB/s               \r/tmp/sonnets.txt    100%[===================>]  91.38K  --.-KB/s    in 0.001s  \n",
            "\n",
            "2020-06-24 05:41:58 (69.0 MB/s) - ‘/tmp/sonnets.txt’ saved [93578/93578]\n",
            "\n"
          ],
          "name": "stdout"
        }
      ]
    },
    {
      "cell_type": "code",
      "metadata": {
        "colab_type": "code",
        "id": "w9vH8Y59ajYL",
        "colab": {
          "base_uri": "https://localhost:8080/",
          "height": 391
        },
        "outputId": "c39e652f-90be-415c-9d89-89525ccc86f6"
      },
      "source": [
        "model = Sequential()\n",
        "model.add(Embedding(total_words, 100, input_length=max_sequence_len-1))\n",
        "model.add(Bidirectional(LSTM(150, return_sequences=True)))\n",
        "model.add(Dropout(0.2))\n",
        "model.add(Bidirectional(LSTM(100)))\n",
        "model.add(Dense(total_words/2, activation=\"relu\", kernel_regularizer=regularizers.l1_l2(l1=1e-5, l2=1e-4), bias_regularizer=regularizers.l2(1e-4), activity_regularizer=regularizers.l2(1e-5)))\n",
        "model.add(Dense(total_words, activation='softmax'))\n",
        "# Pick an optimizer\n",
        "model.compile(loss='categorical_crossentropy', optimizer='adam', metrics=['accuracy'])\n",
        "print(model.summary())\n"
      ],
      "execution_count": 5,
      "outputs": [
        {
          "output_type": "stream",
          "text": [
            "Model: \"sequential\"\n",
            "_________________________________________________________________\n",
            "Layer (type)                 Output Shape              Param #   \n",
            "=================================================================\n",
            "embedding (Embedding)        (None, 10, 100)           321100    \n",
            "_________________________________________________________________\n",
            "bidirectional (Bidirectional (None, 10, 300)           301200    \n",
            "_________________________________________________________________\n",
            "dropout (Dropout)            (None, 10, 300)           0         \n",
            "_________________________________________________________________\n",
            "bidirectional_1 (Bidirection (None, 200)               320800    \n",
            "_________________________________________________________________\n",
            "dense (Dense)                (None, 1605)              322605    \n",
            "_________________________________________________________________\n",
            "dense_1 (Dense)              (None, 3211)              5156866   \n",
            "=================================================================\n",
            "Total params: 6,422,571\n",
            "Trainable params: 6,422,571\n",
            "Non-trainable params: 0\n",
            "_________________________________________________________________\n",
            "None\n"
          ],
          "name": "stdout"
        }
      ]
    },
    {
      "cell_type": "code",
      "metadata": {
        "colab_type": "code",
        "id": "AIg2f1HBxqof",
        "colab": {
          "base_uri": "https://localhost:8080/",
          "height": 1000
        },
        "outputId": "934d950f-e691-4317-cb25-acea6ebaaefa"
      },
      "source": [
        " history = model.fit(predictors, label, epochs=100, verbose=1)"
      ],
      "execution_count": 6,
      "outputs": [
        {
          "output_type": "stream",
          "text": [
            "Epoch 1/100\n",
            "484/484 [==============================] - 15s 30ms/step - loss: 6.8508 - accuracy: 0.0222\n",
            "Epoch 2/100\n",
            "484/484 [==============================] - 15s 31ms/step - loss: 6.4882 - accuracy: 0.0257\n",
            "Epoch 3/100\n",
            "484/484 [==============================] - 15s 31ms/step - loss: 6.2963 - accuracy: 0.0362\n",
            "Epoch 4/100\n",
            "484/484 [==============================] - 15s 30ms/step - loss: 6.1014 - accuracy: 0.0444\n",
            "Epoch 5/100\n",
            "484/484 [==============================] - 15s 30ms/step - loss: 5.8602 - accuracy: 0.0520\n",
            "Epoch 6/100\n",
            "484/484 [==============================] - 15s 30ms/step - loss: 5.6163 - accuracy: 0.0636\n",
            "Epoch 7/100\n",
            "484/484 [==============================] - 15s 30ms/step - loss: 5.3830 - accuracy: 0.0750\n",
            "Epoch 8/100\n",
            "484/484 [==============================] - 15s 30ms/step - loss: 5.1543 - accuracy: 0.0865\n",
            "Epoch 9/100\n",
            "484/484 [==============================] - 15s 31ms/step - loss: 4.9114 - accuracy: 0.0999\n",
            "Epoch 10/100\n",
            "484/484 [==============================] - 15s 30ms/step - loss: 4.6566 - accuracy: 0.1157\n",
            "Epoch 11/100\n",
            "484/484 [==============================] - 15s 30ms/step - loss: 4.3900 - accuracy: 0.1331\n",
            "Epoch 12/100\n",
            "484/484 [==============================] - 15s 30ms/step - loss: 4.1120 - accuracy: 0.1578\n",
            "Epoch 13/100\n",
            "484/484 [==============================] - 15s 30ms/step - loss: 3.8255 - accuracy: 0.1879\n",
            "Epoch 14/100\n",
            "484/484 [==============================] - 15s 30ms/step - loss: 3.5238 - accuracy: 0.2377\n",
            "Epoch 15/100\n",
            "484/484 [==============================] - 15s 30ms/step - loss: 3.2442 - accuracy: 0.2884\n",
            "Epoch 16/100\n",
            "484/484 [==============================] - 15s 30ms/step - loss: 2.9629 - accuracy: 0.3441\n",
            "Epoch 17/100\n",
            "484/484 [==============================] - 15s 30ms/step - loss: 2.7144 - accuracy: 0.3973\n",
            "Epoch 18/100\n",
            "484/484 [==============================] - 15s 30ms/step - loss: 2.4920 - accuracy: 0.4434\n",
            "Epoch 19/100\n",
            "484/484 [==============================] - 15s 30ms/step - loss: 2.2636 - accuracy: 0.4955\n",
            "Epoch 20/100\n",
            "484/484 [==============================] - 15s 30ms/step - loss: 2.0906 - accuracy: 0.5332\n",
            "Epoch 21/100\n",
            "484/484 [==============================] - 15s 30ms/step - loss: 1.9246 - accuracy: 0.5728\n",
            "Epoch 22/100\n",
            "484/484 [==============================] - 15s 30ms/step - loss: 1.7813 - accuracy: 0.6059\n",
            "Epoch 23/100\n",
            "484/484 [==============================] - 15s 31ms/step - loss: 1.6547 - accuracy: 0.6371\n",
            "Epoch 24/100\n",
            "484/484 [==============================] - 15s 31ms/step - loss: 1.5449 - accuracy: 0.6647\n",
            "Epoch 25/100\n",
            "484/484 [==============================] - 15s 30ms/step - loss: 1.4419 - accuracy: 0.6896\n",
            "Epoch 26/100\n",
            "484/484 [==============================] - 15s 30ms/step - loss: 1.3679 - accuracy: 0.7106\n",
            "Epoch 27/100\n",
            "484/484 [==============================] - 15s 30ms/step - loss: 1.2928 - accuracy: 0.7314\n",
            "Epoch 28/100\n",
            "484/484 [==============================] - 15s 30ms/step - loss: 1.2358 - accuracy: 0.7470\n",
            "Epoch 29/100\n",
            "484/484 [==============================] - 15s 30ms/step - loss: 1.1916 - accuracy: 0.7584\n",
            "Epoch 30/100\n",
            "484/484 [==============================] - 15s 31ms/step - loss: 1.1585 - accuracy: 0.7651\n",
            "Epoch 31/100\n",
            "484/484 [==============================] - 15s 30ms/step - loss: 1.1050 - accuracy: 0.7791\n",
            "Epoch 32/100\n",
            "484/484 [==============================] - 15s 30ms/step - loss: 1.0933 - accuracy: 0.7775\n",
            "Epoch 33/100\n",
            "484/484 [==============================] - 15s 30ms/step - loss: 1.0626 - accuracy: 0.7865\n",
            "Epoch 34/100\n",
            "484/484 [==============================] - 15s 30ms/step - loss: 1.0277 - accuracy: 0.7940\n",
            "Epoch 35/100\n",
            "484/484 [==============================] - 15s 30ms/step - loss: 0.9836 - accuracy: 0.8092\n",
            "Epoch 36/100\n",
            "484/484 [==============================] - 15s 30ms/step - loss: 0.9775 - accuracy: 0.8088\n",
            "Epoch 37/100\n",
            "484/484 [==============================] - 15s 30ms/step - loss: 0.9497 - accuracy: 0.8144\n",
            "Epoch 38/100\n",
            "484/484 [==============================] - 15s 31ms/step - loss: 0.9287 - accuracy: 0.8196\n",
            "Epoch 39/100\n",
            "484/484 [==============================] - 15s 30ms/step - loss: 0.9380 - accuracy: 0.8138\n",
            "Epoch 40/100\n",
            "484/484 [==============================] - 15s 30ms/step - loss: 0.9348 - accuracy: 0.8132\n",
            "Epoch 41/100\n",
            "484/484 [==============================] - 15s 30ms/step - loss: 0.9068 - accuracy: 0.8202\n",
            "Epoch 42/100\n",
            "484/484 [==============================] - 15s 30ms/step - loss: 0.9061 - accuracy: 0.8209\n",
            "Epoch 43/100\n",
            "484/484 [==============================] - 15s 30ms/step - loss: 0.8894 - accuracy: 0.8219\n",
            "Epoch 44/100\n",
            "484/484 [==============================] - 15s 31ms/step - loss: 0.8724 - accuracy: 0.8280\n",
            "Epoch 45/100\n",
            "484/484 [==============================] - 15s 31ms/step - loss: 0.8670 - accuracy: 0.8280\n",
            "Epoch 46/100\n",
            "484/484 [==============================] - 15s 30ms/step - loss: 0.8733 - accuracy: 0.8260\n",
            "Epoch 47/100\n",
            "484/484 [==============================] - 15s 30ms/step - loss: 0.8522 - accuracy: 0.8296\n",
            "Epoch 48/100\n",
            "484/484 [==============================] - 15s 30ms/step - loss: 0.8276 - accuracy: 0.8357\n",
            "Epoch 49/100\n",
            "484/484 [==============================] - 15s 30ms/step - loss: 0.8234 - accuracy: 0.8348\n",
            "Epoch 50/100\n",
            "484/484 [==============================] - 15s 30ms/step - loss: 0.8262 - accuracy: 0.8331\n",
            "Epoch 51/100\n",
            "484/484 [==============================] - 15s 31ms/step - loss: 0.8235 - accuracy: 0.8308\n",
            "Epoch 52/100\n",
            "484/484 [==============================] - 15s 31ms/step - loss: 0.8194 - accuracy: 0.8316\n",
            "Epoch 53/100\n",
            "484/484 [==============================] - 15s 30ms/step - loss: 0.8065 - accuracy: 0.8326\n",
            "Epoch 54/100\n",
            "484/484 [==============================] - 15s 30ms/step - loss: 0.8046 - accuracy: 0.8337\n",
            "Epoch 55/100\n",
            "484/484 [==============================] - 15s 30ms/step - loss: 0.8012 - accuracy: 0.8355\n",
            "Epoch 56/100\n",
            "484/484 [==============================] - 15s 30ms/step - loss: 0.7823 - accuracy: 0.8388\n",
            "Epoch 57/100\n",
            "484/484 [==============================] - 15s 30ms/step - loss: 0.7758 - accuracy: 0.8384\n",
            "Epoch 58/100\n",
            "484/484 [==============================] - 15s 31ms/step - loss: 0.7770 - accuracy: 0.8382\n",
            "Epoch 59/100\n",
            "484/484 [==============================] - 15s 31ms/step - loss: 0.7828 - accuracy: 0.8352\n",
            "Epoch 60/100\n",
            "484/484 [==============================] - 15s 31ms/step - loss: 0.7775 - accuracy: 0.8360\n",
            "Epoch 61/100\n",
            "484/484 [==============================] - 15s 31ms/step - loss: 0.7720 - accuracy: 0.8371\n",
            "Epoch 62/100\n",
            "484/484 [==============================] - 15s 30ms/step - loss: 0.7715 - accuracy: 0.8377\n",
            "Epoch 63/100\n",
            "484/484 [==============================] - 15s 31ms/step - loss: 0.7530 - accuracy: 0.8399\n",
            "Epoch 64/100\n",
            "484/484 [==============================] - 15s 30ms/step - loss: 0.7536 - accuracy: 0.8401\n",
            "Epoch 65/100\n",
            "484/484 [==============================] - 15s 31ms/step - loss: 0.7537 - accuracy: 0.8397\n",
            "Epoch 66/100\n",
            "484/484 [==============================] - 15s 31ms/step - loss: 0.7376 - accuracy: 0.8446\n",
            "Epoch 67/100\n",
            "484/484 [==============================] - 15s 31ms/step - loss: 0.7416 - accuracy: 0.8415\n",
            "Epoch 68/100\n",
            "484/484 [==============================] - 15s 31ms/step - loss: 0.7458 - accuracy: 0.8377\n",
            "Epoch 69/100\n",
            "484/484 [==============================] - 15s 31ms/step - loss: 0.7412 - accuracy: 0.8390\n",
            "Epoch 70/100\n",
            "484/484 [==============================] - 15s 31ms/step - loss: 0.7404 - accuracy: 0.8366\n",
            "Epoch 71/100\n",
            "484/484 [==============================] - 15s 31ms/step - loss: 0.7333 - accuracy: 0.8401\n",
            "Epoch 72/100\n",
            "484/484 [==============================] - 15s 30ms/step - loss: 0.7474 - accuracy: 0.8364\n",
            "Epoch 73/100\n",
            "484/484 [==============================] - 15s 30ms/step - loss: 0.7309 - accuracy: 0.8388\n",
            "Epoch 74/100\n",
            "484/484 [==============================] - 15s 31ms/step - loss: 0.7199 - accuracy: 0.8421\n",
            "Epoch 75/100\n",
            "484/484 [==============================] - 15s 31ms/step - loss: 0.7167 - accuracy: 0.8425\n",
            "Epoch 76/100\n",
            "484/484 [==============================] - 15s 31ms/step - loss: 0.7092 - accuracy: 0.8437\n",
            "Epoch 77/100\n",
            "484/484 [==============================] - 15s 31ms/step - loss: 0.7148 - accuracy: 0.8421\n",
            "Epoch 78/100\n",
            "484/484 [==============================] - 15s 31ms/step - loss: 0.7222 - accuracy: 0.8405\n",
            "Epoch 79/100\n",
            "484/484 [==============================] - 15s 31ms/step - loss: 0.7091 - accuracy: 0.8432\n",
            "Epoch 80/100\n",
            "484/484 [==============================] - 15s 30ms/step - loss: 0.7055 - accuracy: 0.8448\n",
            "Epoch 81/100\n",
            "484/484 [==============================] - 15s 30ms/step - loss: 0.7107 - accuracy: 0.8402\n",
            "Epoch 82/100\n",
            "484/484 [==============================] - 15s 30ms/step - loss: 0.7103 - accuracy: 0.8401\n",
            "Epoch 83/100\n",
            "484/484 [==============================] - 15s 31ms/step - loss: 0.7060 - accuracy: 0.8408\n",
            "Epoch 84/100\n",
            "484/484 [==============================] - 15s 31ms/step - loss: 0.7027 - accuracy: 0.8415\n",
            "Epoch 85/100\n",
            "484/484 [==============================] - 15s 30ms/step - loss: 0.7062 - accuracy: 0.8412\n",
            "Epoch 86/100\n",
            "484/484 [==============================] - 15s 31ms/step - loss: 0.7014 - accuracy: 0.8412\n",
            "Epoch 87/100\n",
            "484/484 [==============================] - 15s 31ms/step - loss: 0.6820 - accuracy: 0.8472\n",
            "Epoch 88/100\n",
            "484/484 [==============================] - 15s 30ms/step - loss: 0.6806 - accuracy: 0.8452\n",
            "Epoch 89/100\n",
            "484/484 [==============================] - 15s 30ms/step - loss: 0.6826 - accuracy: 0.8449\n",
            "Epoch 90/100\n",
            "484/484 [==============================] - 15s 31ms/step - loss: 0.6913 - accuracy: 0.8426\n",
            "Epoch 91/100\n",
            "484/484 [==============================] - 15s 30ms/step - loss: 0.7081 - accuracy: 0.8389\n",
            "Epoch 92/100\n",
            "484/484 [==============================] - 15s 31ms/step - loss: 0.6872 - accuracy: 0.8436\n",
            "Epoch 93/100\n",
            "484/484 [==============================] - 15s 30ms/step - loss: 0.6826 - accuracy: 0.8430\n",
            "Epoch 94/100\n",
            "484/484 [==============================] - 15s 30ms/step - loss: 0.6783 - accuracy: 0.8452\n",
            "Epoch 95/100\n",
            "484/484 [==============================] - 15s 31ms/step - loss: 0.6836 - accuracy: 0.8421\n",
            "Epoch 96/100\n",
            "484/484 [==============================] - 15s 30ms/step - loss: 0.6832 - accuracy: 0.8436\n",
            "Epoch 97/100\n",
            "484/484 [==============================] - 15s 30ms/step - loss: 0.6847 - accuracy: 0.8397\n",
            "Epoch 98/100\n",
            "484/484 [==============================] - 15s 30ms/step - loss: 0.6857 - accuracy: 0.8428\n",
            "Epoch 99/100\n",
            "484/484 [==============================] - 15s 31ms/step - loss: 0.6855 - accuracy: 0.8414\n",
            "Epoch 100/100\n",
            "484/484 [==============================] - 15s 31ms/step - loss: 0.6689 - accuracy: 0.8457\n"
          ],
          "name": "stdout"
        }
      ]
    },
    {
      "cell_type": "code",
      "metadata": {
        "colab_type": "code",
        "id": "1fXTEO3GJ282",
        "colab": {
          "base_uri": "https://localhost:8080/",
          "height": 545
        },
        "outputId": "6d9de40c-2b09-4e04-8a09-51f98de21ff0"
      },
      "source": [
        "import matplotlib.pyplot as plt\n",
        "acc = history.history['accuracy']\n",
        "loss = history.history['loss']\n",
        "\n",
        "epochs = range(len(acc))\n",
        "\n",
        "plt.plot(epochs, acc, 'b', label='Training accuracy')\n",
        "plt.title('Training accuracy')\n",
        "\n",
        "plt.figure()\n",
        "\n",
        "plt.plot(epochs, loss, 'b', label='Training Loss')\n",
        "plt.title('Training loss')\n",
        "plt.legend()\n",
        "\n",
        "plt.show()"
      ],
      "execution_count": 7,
      "outputs": [
        {
          "output_type": "display_data",
          "data": {
            "image/png": "[encoded data removed]",
            "text/plain": [
              "<Figure size 432x288 with 1 Axes>"
            ]
          },
          "metadata": {
            "tags": [],
            "needs_background": "light"
          }
        },
        {
          "output_type": "display_data",
          "data": {
            "image/png": "[encoded data removed]",
            "text/plain": [
              "<Figure size 432x288 with 1 Axes>"
            ]
          },
          "metadata": {
            "tags": [],
            "needs_background": "light"
          }
        }
      ]
    },
    {
      "cell_type": "code",
      "metadata": {
        "colab_type": "code",
        "id": "6Vc6PHgxa6Hm",
        "colab": {
          "base_uri": "https://localhost:8080/",
          "height": 108
        },
        "outputId": "c8cacbd2-27ac-4035-ec89-a96d7bf89f6e"
      },
      "source": [
        "seed_text = \"Help me Obi Wan Kenobi, you're my only hope\"\n",
        "next_words = 100\n",
        "  \n",
        "for _ in range(next_words):\n",
        "\ttoken_list = tokenizer.texts_to_sequences([seed_text])[0]\n",
        "\ttoken_list = pad_sequences([token_list], maxlen=max_sequence_len-1, padding='pre')\n",
        "\tpredicted = model.predict_classes(token_list, verbose=0)\n",
        "\toutput_word = \"\"\n",
        "\tfor word, index in tokenizer.word_index.items():\n",
        "\t\tif index == predicted:\n",
        "\t\t\toutput_word = word\n",
        "\t\t\tbreak\n",
        "\tseed_text += \" \" + output_word\n",
        "print(seed_text)"
      ],
      "execution_count": 8,
      "outputs": [
        {
          "output_type": "stream",
          "text": [
            "WARNING:tensorflow:From <ipython-input-8-622d307fa19a>:7: Sequential.predict_classes (from tensorflow.python.keras.engine.sequential) is deprecated and will be removed after 2021-01-01.\n",
            "Instructions for updating:\n",
            "Please use instead:* `np.argmax(model.predict(x), axis=-1)`,   if your model does multi-class classification   (e.g. if it uses a `softmax` last-layer activation).* `(model.predict(x) > 0.5).astype(\"int32\")`,   if your model does binary classification   (e.g. if it uses a `sigmoid` last-layer activation).\n",
            "Help me Obi Wan Kenobi, you're my only hope nor thence they taste dost lie with me be of heaven of thee express me dear love away alone dead lies rare of your love lies rare bright in thine hits in your praise had hate new best is not so true thy praise lies true worth so not well knows not knows all my argument thoughts new of thine will not doth live alone in thy mind to sing behind of sense disdain hate doth lie it in my tongue ' could to me are first now now now well of heart so deem'd forbear to be invited alone\n"
          ],
          "name": "stdout"
        }
      ]
    }
  ]
}