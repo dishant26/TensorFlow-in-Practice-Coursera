{
  "nbformat": 4,
  "nbformat_minor": 0,
  "metadata": {
    "accelerator": "GPU",
    "colab": {
      "name": "NLP Course - Week 3 Exercise Question.ipynb",
      "provenance": [],
      "toc_visible": true
    },
    "kernelspec": {
      "display_name": "Python 3",
      "name": "python3"
    }
  },
  "cells": [
    {
      "cell_type": "code",
      "metadata": {
        "id": "zX4Kg8DUTKWO",
        "colab_type": "code",
        "colab": {}
      },
      "source": [
        "#@title Licensed under the Apache License, Version 2.0 (the \"License\");\n",
        "# you may not use this file except in compliance with the License.\n",
        "# You may obtain a copy of the License at\n",
        "#\n",
        "# https://www.apache.org/licenses/LICENSE-2.0\n",
        "#\n",
        "# Unless required by applicable law or agreed to in writing, software\n",
        "# distributed under the License is distributed on an \"AS IS\" BASIS,\n",
        "# WITHOUT WARRANTIES OR CONDITIONS OF ANY KIND, either express or implied.\n",
        "# See the License for the specific language governing permissions and\n",
        "# limitations under the License."
      ],
      "execution_count": 1,
      "outputs": []
    },
    {
      "cell_type": "code",
      "metadata": {
        "id": "GGeEJfXxHGlQ",
        "colab_type": "code",
        "colab": {
          "base_uri": "https://localhost:8080/",
          "height": 35
        },
        "outputId": "fe8b3749-e5c5-4699-bb1d-40933beb8520"
      },
      "source": [
        "%tensorflow_version 2.x\n",
        "import tensorflow as tf\n",
        "device_name = tf.test.gpu_device_name()\n",
        "if device_name != '/device:GPU:0':\n",
        "  raise SystemError('GPU device not found')\n",
        "print('Found GPU at: {}'.format(device_name))"
      ],
      "execution_count": 2,
      "outputs": [
        {
          "output_type": "stream",
          "text": [
            "Found GPU at: /device:GPU:0\n"
          ],
          "name": "stdout"
        }
      ]
    },
    {
      "cell_type": "code",
      "metadata": {
        "colab_type": "code",
        "id": "hmA6EzkQJ5jt",
        "colab": {}
      },
      "source": [
        "import json\n",
        "import tensorflow as tf\n",
        "import csv\n",
        "import random\n",
        "import numpy as np\n",
        "\n",
        "from tensorflow.keras.preprocessing.text import Tokenizer\n",
        "from tensorflow.keras.preprocessing.sequence import pad_sequences\n",
        "from tensorflow.keras.utils import to_categorical\n",
        "from tensorflow.keras import regularizers\n",
        "\n",
        "\n",
        "embedding_dim = 100\n",
        "max_length = 16\n",
        "trunc_type='post'\n",
        "padding_type='post'\n",
        "oov_tok = \"<OOV>\"\n",
        "training_size= 160000\n",
        "#Your dataset size here. Experiment using smaller values (i.e. 16000), but don't forget to train on at least 160000 to see the best effects\n",
        "test_portion=.1\n",
        "\n",
        "corpus = []\n"
      ],
      "execution_count": 3,
      "outputs": []
    },
    {
      "cell_type": "code",
      "metadata": {
        "colab_type": "code",
        "id": "bM0l_dORKqE0",
        "colab": {
          "base_uri": "https://localhost:8080/",
          "height": 213
        },
        "outputId": "41b34b92-e5ca-4ff2-a4ab-0bc35aa0b65e"
      },
      "source": [
        "# Note that I cleaned the Stanford dataset to remove LATIN1 encoding to make it easier for Python CSV reader\n",
        "# You can do that yourself with:\n",
        "# iconv -f LATIN1 -t UTF8 training.1600000.processed.noemoticon.csv -o training_cleaned.csv\n",
        "# I then hosted it on my site to make it easier to use in this notebook\n",
        "\n",
        "!wget --no-check-certificate \\\n",
        "    https://storage.googleapis.com/laurencemoroney-blog.appspot.com/training_cleaned.csv \\\n",
        "    -O /tmp/training_cleaned.csv\n",
        "\n",
        "num_sentences = 0\n",
        "\n",
        "with open(\"/tmp/training_cleaned.csv\") as csvfile:\n",
        "    reader = csv.reader(csvfile, delimiter=',')\n",
        "    for row in reader:\n",
        "      # Your Code here. Create list items where the first item is the text, found in row[5], and the second is the label. Note that the label is a '0' or a '4' in the text. When it's the former, make\n",
        "      # your label to be 0, otherwise 1. Keep a count of the number of sentences in num_sentences\n",
        "        list_item=[]\n",
        "        list_item.append(row[5])\n",
        "        this_label = row[0]\n",
        "        if this_label == '0':\n",
        "          list_item.append(0)\n",
        "        else:\n",
        "          list_item.append(1)\n",
        "        num_sentences = num_sentences + 1\n",
        "        corpus.append(list_item)\n"
      ],
      "execution_count": 4,
      "outputs": [
        {
          "output_type": "stream",
          "text": [
            "--2020-06-23 17:40:16--  https://storage.googleapis.com/laurencemoroney-blog.appspot.com/training_cleaned.csv\n",
            "Resolving storage.googleapis.com (storage.googleapis.com)... 74.125.200.128, 2404:6800:4003:c04::80\n",
            "Connecting to storage.googleapis.com (storage.googleapis.com)|74.125.200.128|:443... connected.\n",
            "HTTP request sent, awaiting response... 200 OK\n",
            "Length: 238942690 (228M) [application/octet-stream]\n",
            "Saving to: ‘/tmp/training_cleaned.csv’\n",
            "\n",
            "/tmp/training_clean 100%[===================>] 227.87M   144MB/s    in 1.6s    \n",
            "\n",
            "2020-06-23 17:40:18 (144 MB/s) - ‘/tmp/training_cleaned.csv’ saved [238942690/238942690]\n",
            "\n"
          ],
          "name": "stdout"
        }
      ]
    },
    {
      "cell_type": "code",
      "metadata": {
        "colab_type": "code",
        "id": "3kxblBUjEUX-",
        "colab": {
          "base_uri": "https://localhost:8080/",
          "height": 70
        },
        "outputId": "ae435ef0-3062-41df-a9b5-b1932eb955e2"
      },
      "source": [
        "print(num_sentences)\n",
        "print(len(corpus))\n",
        "print(corpus[1])\n",
        "\n",
        "# Expected Output:\n",
        "# 1600000\n",
        "# 1600000\n",
        "# [\"is upset that he can't update his Facebook by texting it... and might cry as a result  School today also. Blah!\", 0]"
      ],
      "execution_count": 5,
      "outputs": [
        {
          "output_type": "stream",
          "text": [
            "1600000\n",
            "1600000\n",
            "[\"is upset that he can't update his Facebook by texting it... and might cry as a result  School today also. Blah!\", 0]\n"
          ],
          "name": "stdout"
        }
      ]
    },
    {
      "cell_type": "code",
      "metadata": {
        "colab_type": "code",
        "id": "ohOGz24lsNAD",
        "colab": {}
      },
      "source": [
        "sentences=[]\n",
        "labels=[]\n",
        "random.shuffle(corpus)\n",
        "for x in range(training_size):\n",
        "    sentences.append(corpus[x][0])\n",
        "    labels.append(corpus[x][1])\n",
        "\n",
        "\n",
        "tokenizer = Tokenizer()\n",
        "tokenizer.fit_on_texts(sentences)\n",
        "\n",
        "word_index = tokenizer.word_index\n",
        "vocab_size=len(word_index)\n",
        "\n",
        "sequences = tokenizer.texts_to_sequences(sentences)\n",
        "padded = pad_sequences(sequences, maxlen=max_length, padding= padding_type, truncating= trunc_type)\n",
        "\n",
        "split = int(test_portion * training_size)\n",
        "\n",
        "test_sequences = padded[0:split]\n",
        "training_sequences = padded[split:training_size]\n",
        "test_labels = labels[0:split]\n",
        "training_labels = labels[split:training_size]\n",
        "\n",
        "training_labels = np.asarray(training_labels)\n",
        "test_labels = np.asarray(test_labels)"
      ],
      "execution_count": 5,
      "outputs": []
    },
    {
      "cell_type": "code",
      "metadata": {
        "colab_type": "code",
        "id": "gIrtRem1En3N",
        "colab": {
          "base_uri": "https://localhost:8080/",
          "height": 52
        },
        "outputId": "4047b24b-4b86-4b1f-c8ad-81e3d715d63d"
      },
      "source": [
        "print(vocab_size)\n",
        "print(word_index['i'])\n",
        "# Expected Output\n",
        "# 138858\n",
        "# 1"
      ],
      "execution_count": 6,
      "outputs": [
        {
          "output_type": "stream",
          "text": [
            "138688\n",
            "1\n"
          ],
          "name": "stdout"
        }
      ]
    },
    {
      "cell_type": "code",
      "metadata": {
        "colab_type": "code",
        "id": "C1zdgJkusRh0",
        "colab": {
          "base_uri": "https://localhost:8080/",
          "height": 213
        },
        "outputId": "926880d1-630b-4a2b-ada6-160014c63371"
      },
      "source": [
        "# Note this is the 100 dimension version of GloVe from Stanford\n",
        "# I unzipped and hosted it on my site to make this notebook easier\n",
        "!wget --no-check-certificate \\\n",
        "    https://storage.googleapis.com/laurencemoroney-blog.appspot.com/glove.6B.100d.txt \\\n",
        "    -O /tmp/glove.6B.100d.txt\n",
        "embeddings_index = {};\n",
        "with open('/tmp/glove.6B.100d.txt') as f:\n",
        "    for line in f:\n",
        "        values = line.split();\n",
        "        word = values[0];\n",
        "        coefs = np.asarray(values[1:], dtype='float32');\n",
        "        embeddings_index[word] = coefs;\n",
        "\n",
        "embeddings_matrix = np.zeros((vocab_size+1, embedding_dim));\n",
        "for word, i in word_index.items():\n",
        "    embedding_vector = embeddings_index.get(word);\n",
        "    if embedding_vector is not None:\n",
        "        embeddings_matrix[i] = embedding_vector;"
      ],
      "execution_count": 7,
      "outputs": [
        {
          "output_type": "stream",
          "text": [
            "--2020-06-23 17:42:21--  https://storage.googleapis.com/laurencemoroney-blog.appspot.com/glove.6B.100d.txt\n",
            "Resolving storage.googleapis.com (storage.googleapis.com)... 74.125.68.128, 2404:6800:4003:c03::80\n",
            "Connecting to storage.googleapis.com (storage.googleapis.com)|74.125.68.128|:443... connected.\n",
            "HTTP request sent, awaiting response... 200 OK\n",
            "Length: 347116733 (331M) [text/plain]\n",
            "Saving to: ‘/tmp/glove.6B.100d.txt’\n",
            "\n",
            "/tmp/glove.6B.100d. 100%[===================>] 331.04M   143MB/s    in 2.3s    \n",
            "\n",
            "2020-06-23 17:42:23 (143 MB/s) - ‘/tmp/glove.6B.100d.txt’ saved [347116733/347116733]\n",
            "\n"
          ],
          "name": "stdout"
        }
      ]
    },
    {
      "cell_type": "code",
      "metadata": {
        "colab_type": "code",
        "id": "71NLk_lpFLNt",
        "colab": {
          "base_uri": "https://localhost:8080/",
          "height": 35
        },
        "outputId": "1f82830e-d99e-4241-e126-5fdd8f54cb50"
      },
      "source": [
        "print(len(embeddings_matrix))\n",
        "# Expected Output\n",
        "# 138859"
      ],
      "execution_count": 8,
      "outputs": [
        {
          "output_type": "stream",
          "text": [
            "138689\n"
          ],
          "name": "stdout"
        }
      ]
    },
    {
      "cell_type": "code",
      "metadata": {
        "colab_type": "code",
        "id": "iKKvbuEBOGFz",
        "colab": {
          "base_uri": "https://localhost:8080/",
          "height": 1000
        },
        "outputId": "3a17adde-27cd-46bb-a552-8bda5e65365f"
      },
      "source": [
        "model = tf.keras.Sequential([\n",
        "    tf.keras.layers.Embedding(vocab_size+1, embedding_dim, input_length=max_length, weights=[embeddings_matrix], trainable=False),\n",
        "    tf.keras.layers.Dropout(0.2),\n",
        "    tf.keras.layers.Conv1D(64, 5, activation='relu'),\n",
        "    tf.keras.layers.MaxPooling1D(pool_size=4),\n",
        "    tf.keras.layers.LSTM(64),\n",
        "    tf.keras.layers.Dense(1, activation='sigmoid')\n",
        "])\n",
        "model.compile(loss='binary_crossentropy',optimizer='adam',metrics=['accuracy'])\n",
        "model.summary()\n",
        "\n",
        "num_epochs = 50\n",
        "history = model.fit(training_sequences, training_labels, epochs=num_epochs, validation_data=(test_sequences, test_labels), verbose=2)\n",
        "\n",
        "print(\"Training Complete\")\n"
      ],
      "execution_count": 9,
      "outputs": [
        {
          "output_type": "stream",
          "text": [
            "Model: \"sequential\"\n",
            "_________________________________________________________________\n",
            "Layer (type)                 Output Shape              Param #   \n",
            "=================================================================\n",
            "embedding (Embedding)        (None, 16, 100)           13868900  \n",
            "_________________________________________________________________\n",
            "dropout (Dropout)            (None, 16, 100)           0         \n",
            "_________________________________________________________________\n",
            "conv1d (Conv1D)              (None, 12, 64)            32064     \n",
            "_________________________________________________________________\n",
            "max_pooling1d (MaxPooling1D) (None, 3, 64)             0         \n",
            "_________________________________________________________________\n",
            "lstm (LSTM)                  (None, 64)                33024     \n",
            "_________________________________________________________________\n",
            "dense (Dense)                (None, 1)                 65        \n",
            "=================================================================\n",
            "Total params: 13,934,053\n",
            "Trainable params: 65,153\n",
            "Non-trainable params: 13,868,900\n",
            "_________________________________________________________________\n",
            "Epoch 1/50\n",
            "4500/4500 - 16s - loss: 0.5662 - accuracy: 0.6998 - val_loss: 0.5369 - val_accuracy: 0.7185\n",
            "Epoch 2/50\n",
            "Epoch 3/50\n",
            "4500/4500 - 16s - loss: 0.5115 - accuracy: 0.7435 - val_loss: 0.5029 - val_accuracy: 0.7494\n",
            "Epoch 4/50\n",
            "4500/4500 - 16s - loss: 0.4996 - accuracy: 0.7520 - val_loss: 0.5013 - val_accuracy: 0.7515\n",
            "Epoch 5/50\n",
            "4500/4500 - 16s - loss: 0.4910 - accuracy: 0.7565 - val_loss: 0.5032 - val_accuracy: 0.7479\n",
            "Epoch 6/50\n",
            "4500/4500 - 15s - loss: 0.4832 - accuracy: 0.7617 - val_loss: 0.4995 - val_accuracy: 0.7552\n",
            "Epoch 7/50\n",
            "4500/4500 - 16s - loss: 0.4795 - accuracy: 0.7634 - val_loss: 0.4980 - val_accuracy: 0.7533\n",
            "Epoch 8/50\n",
            "4500/4500 - 15s - loss: 0.4725 - accuracy: 0.7696 - val_loss: 0.4993 - val_accuracy: 0.7530\n",
            "Epoch 9/50\n",
            "4500/4500 - 15s - loss: 0.4682 - accuracy: 0.7716 - val_loss: 0.4971 - val_accuracy: 0.7532\n",
            "Epoch 10/50\n",
            "4500/4500 - 15s - loss: 0.4654 - accuracy: 0.7736 - val_loss: 0.5061 - val_accuracy: 0.7541\n",
            "Epoch 11/50\n",
            "4500/4500 - 16s - loss: 0.4621 - accuracy: 0.7758 - val_loss: 0.5029 - val_accuracy: 0.7501\n",
            "Epoch 12/50\n",
            "4500/4500 - 15s - loss: 0.4582 - accuracy: 0.7772 - val_loss: 0.5089 - val_accuracy: 0.7492\n",
            "Epoch 13/50\n",
            "4500/4500 - 16s - loss: 0.4549 - accuracy: 0.7805 - val_loss: 0.5066 - val_accuracy: 0.7527\n",
            "Epoch 14/50\n",
            "4500/4500 - 16s - loss: 0.4531 - accuracy: 0.7814 - val_loss: 0.5054 - val_accuracy: 0.7511\n",
            "Epoch 15/50\n",
            "4500/4500 - 16s - loss: 0.4507 - accuracy: 0.7833 - val_loss: 0.5063 - val_accuracy: 0.7536\n",
            "Epoch 16/50\n",
            "4500/4500 - 15s - loss: 0.4498 - accuracy: 0.7837 - val_loss: 0.5132 - val_accuracy: 0.7503\n",
            "Epoch 17/50\n",
            "4500/4500 - 15s - loss: 0.4476 - accuracy: 0.7839 - val_loss: 0.5086 - val_accuracy: 0.7517\n",
            "Epoch 18/50\n",
            "4500/4500 - 16s - loss: 0.4464 - accuracy: 0.7838 - val_loss: 0.5090 - val_accuracy: 0.7525\n",
            "Epoch 19/50\n",
            "4500/4500 - 15s - loss: 0.4450 - accuracy: 0.7858 - val_loss: 0.5114 - val_accuracy: 0.7502\n",
            "Epoch 20/50\n",
            "4500/4500 - 16s - loss: 0.4435 - accuracy: 0.7883 - val_loss: 0.5115 - val_accuracy: 0.7502\n",
            "Epoch 21/50\n",
            "4500/4500 - 15s - loss: 0.4413 - accuracy: 0.7885 - val_loss: 0.5222 - val_accuracy: 0.7511\n",
            "Epoch 22/50\n",
            "4500/4500 - 16s - loss: 0.4391 - accuracy: 0.7893 - val_loss: 0.5113 - val_accuracy: 0.7486\n",
            "Epoch 23/50\n",
            "4500/4500 - 16s - loss: 0.4395 - accuracy: 0.7892 - val_loss: 0.5135 - val_accuracy: 0.7506\n",
            "Epoch 24/50\n",
            "4500/4500 - 16s - loss: 0.4377 - accuracy: 0.7904 - val_loss: 0.5192 - val_accuracy: 0.7509\n",
            "Epoch 25/50\n",
            "4500/4500 - 15s - loss: 0.4371 - accuracy: 0.7892 - val_loss: 0.5147 - val_accuracy: 0.7507\n",
            "Epoch 26/50\n",
            "4500/4500 - 15s - loss: 0.4362 - accuracy: 0.7916 - val_loss: 0.5125 - val_accuracy: 0.7483\n",
            "Epoch 27/50\n",
            "4500/4500 - 16s - loss: 0.4360 - accuracy: 0.7910 - val_loss: 0.5107 - val_accuracy: 0.7503\n",
            "Epoch 28/50\n",
            "4500/4500 - 16s - loss: 0.4342 - accuracy: 0.7925 - val_loss: 0.5222 - val_accuracy: 0.7498\n",
            "Epoch 29/50\n",
            "4500/4500 - 16s - loss: 0.4342 - accuracy: 0.7923 - val_loss: 0.5171 - val_accuracy: 0.7493\n",
            "Epoch 30/50\n",
            "4500/4500 - 15s - loss: 0.4334 - accuracy: 0.7913 - val_loss: 0.5161 - val_accuracy: 0.7536\n",
            "Epoch 31/50\n",
            "4500/4500 - 15s - loss: 0.4331 - accuracy: 0.7929 - val_loss: 0.5134 - val_accuracy: 0.7513\n",
            "Epoch 32/50\n",
            "4500/4500 - 15s - loss: 0.4313 - accuracy: 0.7934 - val_loss: 0.5135 - val_accuracy: 0.7491\n",
            "Epoch 33/50\n",
            "4500/4500 - 15s - loss: 0.4313 - accuracy: 0.7934 - val_loss: 0.5171 - val_accuracy: 0.7498\n",
            "Epoch 34/50\n",
            "4500/4500 - 16s - loss: 0.4300 - accuracy: 0.7959 - val_loss: 0.5151 - val_accuracy: 0.7526\n",
            "Epoch 35/50\n",
            "4500/4500 - 16s - loss: 0.4303 - accuracy: 0.7947 - val_loss: 0.5129 - val_accuracy: 0.7546\n",
            "Epoch 36/50\n",
            "4500/4500 - 15s - loss: 0.4306 - accuracy: 0.7938 - val_loss: 0.5175 - val_accuracy: 0.7486\n",
            "Epoch 37/50\n",
            "4500/4500 - 15s - loss: 0.4303 - accuracy: 0.7938 - val_loss: 0.5146 - val_accuracy: 0.7488\n",
            "Epoch 38/50\n",
            "4500/4500 - 15s - loss: 0.4308 - accuracy: 0.7949 - val_loss: 0.5189 - val_accuracy: 0.7496\n",
            "Epoch 39/50\n",
            "4500/4500 - 15s - loss: 0.4289 - accuracy: 0.7953 - val_loss: 0.5234 - val_accuracy: 0.7484\n",
            "Epoch 40/50\n",
            "4500/4500 - 15s - loss: 0.4288 - accuracy: 0.7958 - val_loss: 0.5226 - val_accuracy: 0.7499\n",
            "Epoch 41/50\n",
            "4500/4500 - 16s - loss: 0.4272 - accuracy: 0.7970 - val_loss: 0.5131 - val_accuracy: 0.7504\n",
            "Epoch 42/50\n",
            "4500/4500 - 15s - loss: 0.4266 - accuracy: 0.7967 - val_loss: 0.5232 - val_accuracy: 0.7488\n",
            "Epoch 43/50\n",
            "4500/4500 - 15s - loss: 0.4263 - accuracy: 0.7964 - val_loss: 0.5206 - val_accuracy: 0.7482\n",
            "Epoch 44/50\n",
            "4500/4500 - 16s - loss: 0.4280 - accuracy: 0.7965 - val_loss: 0.5177 - val_accuracy: 0.7482\n",
            "Epoch 45/50\n",
            "4500/4500 - 15s - loss: 0.4270 - accuracy: 0.7972 - val_loss: 0.5216 - val_accuracy: 0.7516\n",
            "Epoch 46/50\n",
            "4500/4500 - 15s - loss: 0.4274 - accuracy: 0.7975 - val_loss: 0.5225 - val_accuracy: 0.7525\n",
            "Epoch 47/50\n",
            "4500/4500 - 15s - loss: 0.4262 - accuracy: 0.7974 - val_loss: 0.5258 - val_accuracy: 0.7477\n",
            "Epoch 48/50\n",
            "4500/4500 - 15s - loss: 0.4253 - accuracy: 0.7980 - val_loss: 0.5214 - val_accuracy: 0.7472\n",
            "Epoch 49/50\n",
            "4500/4500 - 16s - loss: 0.4269 - accuracy: 0.7976 - val_loss: 0.5214 - val_accuracy: 0.7491\n",
            "Epoch 50/50\n",
            "4500/4500 - 15s - loss: 0.4262 - accuracy: 0.7965 - val_loss: 0.5224 - val_accuracy: 0.7499\n",
            "Training Complete\n"
          ],
          "name": "stdout"
        }
      ]
    },
    {
      "cell_type": "code",
      "metadata": {
        "colab_type": "code",
        "id": "qxju4ItJKO8F",
        "colab": {
          "base_uri": "https://localhost:8080/",
          "height": 608
        },
        "outputId": "97f38c6d-eb9d-4124-9e51-e494d7f9cd05"
      },
      "source": [
        "import matplotlib.image  as mpimg\n",
        "import matplotlib.pyplot as plt\n",
        "\n",
        "#-----------------------------------------------------------\n",
        "# Retrieve a list of list results on training and test data\n",
        "# sets for each training epoch\n",
        "#-----------------------------------------------------------\n",
        "acc=history.history['accuracy']\n",
        "val_acc=history.history['val_accuracy']\n",
        "loss=history.history['loss']\n",
        "val_loss=history.history['val_loss']\n",
        "\n",
        "epochs=range(len(acc)) # Get number of epochs\n",
        "\n",
        "#------------------------------------------------\n",
        "# Plot training and validation accuracy per epoch\n",
        "#------------------------------------------------\n",
        "plt.plot(epochs, acc, 'r')\n",
        "plt.plot(epochs, val_acc, 'b')\n",
        "plt.title('Training and validation accuracy')\n",
        "plt.xlabel(\"Epochs\")\n",
        "plt.ylabel(\"Accuracy\")\n",
        "plt.legend([\"Accuracy\", \"Validation Accuracy\"])\n",
        "\n",
        "plt.figure()\n",
        "\n",
        "#------------------------------------------------\n",
        "# Plot training and validation loss per epoch\n",
        "#------------------------------------------------\n",
        "plt.plot(epochs, loss, 'r')\n",
        "plt.plot(epochs, val_loss, 'b')\n",
        "plt.title('Training and validation loss')\n",
        "plt.xlabel(\"Epochs\")\n",
        "plt.ylabel(\"Loss\")\n",
        "plt.legend([\"Loss\", \"Validation Loss\"])\n",
        "\n",
        "plt.figure()\n",
        "\n",
        "\n",
        "# Expected Output\n",
        "# A chart where the validation loss does not increase sharply!"
      ],
      "execution_count": 10,
      "outputs": [
        {
          "output_type": "execute_result",
          "data": {
            "text/plain": [
              "<Figure size 432x288 with 0 Axes>"
            ]
          },
          "metadata": {
            "tags": []
          },
          "execution_count": 10
        },
        {
          "output_type": "display_data",
          "data": {
            "image/png": "[encoded data removed]",
            "text/plain": [
              "<Figure size 432x288 with 1 Axes>"
            ]
          },
          "metadata": {
            "tags": [],
            "needs_background": "light"
          }
        },
        {
          "output_type": "display_data",
          "data": {
            "image/png": "[encoded data removed]",
            "text/plain": [
              "<Figure size 432x288 with 1 Axes>"
            ]
          },
          "metadata": {
            "tags": [],
            "needs_background": "light"
          }
        },
        {
          "output_type": "display_data",
          "data": {
            "text/plain": [
              "<Figure size 432x288 with 0 Axes>"
            ]
          },
          "metadata": {
            "tags": []
          }
        }
      ]
    }
  ]
}